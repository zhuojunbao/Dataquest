{
 "cells": [
  {
   "cell_type": "code",
   "execution_count": 2,
   "metadata": {
    "collapsed": false
   },
   "outputs": [
    {
     "name": "stdout",
     "output_type": "stream",
     "text": [
      "[['', 'year', 'month', 'intent', 'police', 'sex', 'age', 'race', 'hispanic', 'place', 'education'], ['1', '2012', '01', 'Suicide', '0', 'M', '34', 'Asian/Pacific Islander', '100', 'Home', '4'], ['2', '2012', '01', 'Suicide', '0', 'F', '21', 'White', '100', 'Street', '3'], ['3', '2012', '01', 'Suicide', '0', 'M', '60', 'White', '100', 'Other specified', '4'], ['4', '2012', '02', 'Suicide', '0', 'M', '64', 'White', '100', 'Home', '4']]\n"
     ]
    }
   ],
   "source": [
    "import csv\n",
    "\n",
    "f = open(\"guns.csv\")\n",
    "data = list(csv.reader(f))\n",
    "print(data[:5])\n"
   ]
  },
  {
   "cell_type": "code",
   "execution_count": 3,
   "metadata": {
    "collapsed": false
   },
   "outputs": [
    {
     "name": "stdout",
     "output_type": "stream",
     "text": [
      "[['', 'year', 'month', 'intent', 'police', 'sex', 'age', 'race', 'hispanic', 'place', 'education']]\n",
      "[['1', '2012', '01', 'Suicide', '0', 'M', '34', 'Asian/Pacific Islander', '100', 'Home', '4'], ['2', '2012', '01', 'Suicide', '0', 'F', '21', 'White', '100', 'Street', '3'], ['3', '2012', '01', 'Suicide', '0', 'M', '60', 'White', '100', 'Other specified', '4'], ['4', '2012', '02', 'Suicide', '0', 'M', '64', 'White', '100', 'Home', '4'], ['5', '2012', '02', 'Suicide', '0', 'M', '31', 'White', '100', 'Other specified', '2']]\n"
     ]
    }
   ],
   "source": [
    "headers = data[:1]\n",
    "data = data[1:]\n",
    "print(headers)\n",
    "print(data[:5])"
   ]
  },
  {
   "cell_type": "code",
   "execution_count": 4,
   "metadata": {
    "collapsed": false
   },
   "outputs": [
    {
     "name": "stdout",
     "output_type": "stream",
     "text": [
      "{'2014': 33599, '2012': 33563, '2013': 33636}\n"
     ]
    }
   ],
   "source": [
    "years = []\n",
    "year_counts = {}\n",
    "\n",
    "for each in data:\n",
    "    years.append(each[1])\n",
    "    \n",
    "for item in years:\n",
    "    if item in year_counts.keys():\n",
    "        year_counts[item] += 1\n",
    "    else:\n",
    "        year_counts[item] = 1\n",
    "print(year_counts)\n",
    "    \n",
    "    \n",
    "    "
   ]
  },
  {
   "cell_type": "code",
   "execution_count": 5,
   "metadata": {
    "collapsed": false
   },
   "outputs": [
    {
     "name": "stdout",
     "output_type": "stream",
     "text": [
      "{datetime.datetime(2012, 12, 1, 0, 0): 2791, datetime.datetime(2013, 7, 1, 0, 0): 3079, datetime.datetime(2014, 4, 1, 0, 0): 2862, datetime.datetime(2013, 3, 1, 0, 0): 2862, datetime.datetime(2014, 8, 1, 0, 0): 2970, datetime.datetime(2012, 11, 1, 0, 0): 2729, datetime.datetime(2013, 12, 1, 0, 0): 2765, datetime.datetime(2014, 3, 1, 0, 0): 2684, datetime.datetime(2013, 8, 1, 0, 0): 2859, datetime.datetime(2014, 6, 1, 0, 0): 2931, datetime.datetime(2013, 11, 1, 0, 0): 2758, datetime.datetime(2012, 1, 1, 0, 0): 2758, datetime.datetime(2012, 7, 1, 0, 0): 3026, datetime.datetime(2012, 8, 1, 0, 0): 2954, datetime.datetime(2014, 1, 1, 0, 0): 2651, datetime.datetime(2012, 10, 1, 0, 0): 2733, datetime.datetime(2014, 5, 1, 0, 0): 2864, datetime.datetime(2014, 2, 1, 0, 0): 2361, datetime.datetime(2012, 3, 1, 0, 0): 2743, datetime.datetime(2013, 1, 1, 0, 0): 2864, datetime.datetime(2013, 2, 1, 0, 0): 2375, datetime.datetime(2014, 12, 1, 0, 0): 2857, datetime.datetime(2012, 9, 1, 0, 0): 2852, datetime.datetime(2014, 9, 1, 0, 0): 2914, datetime.datetime(2012, 6, 1, 0, 0): 2826, datetime.datetime(2014, 11, 1, 0, 0): 2756, datetime.datetime(2013, 9, 1, 0, 0): 2742, datetime.datetime(2013, 5, 1, 0, 0): 2806, datetime.datetime(2014, 7, 1, 0, 0): 2884, datetime.datetime(2012, 2, 1, 0, 0): 2357, datetime.datetime(2014, 10, 1, 0, 0): 2865, datetime.datetime(2012, 4, 1, 0, 0): 2795, datetime.datetime(2013, 4, 1, 0, 0): 2798, datetime.datetime(2013, 6, 1, 0, 0): 2920, datetime.datetime(2013, 10, 1, 0, 0): 2808, datetime.datetime(2012, 5, 1, 0, 0): 2999}\n"
     ]
    }
   ],
   "source": [
    "import datetime\n",
    "dates = []\n",
    "for each in data:\n",
    "     date = datetime.datetime(int(each[1]),int(each[2]),day=1)\n",
    "     dates.append(date)\n",
    "    \n",
    "date_counts = {}\n",
    "for item in dates:\n",
    "    if item in date_counts.keys():\n",
    "        date_counts[item] += 1\n",
    "    else:\n",
    "        date_counts[item] = 1\n",
    "print(date_counts)\n",
    "\n"
   ]
  },
  {
   "cell_type": "code",
   "execution_count": 6,
   "metadata": {
    "collapsed": false
   },
   "outputs": [
    {
     "name": "stdout",
     "output_type": "stream",
     "text": [
      "{'M': 86349, 'F': 14449}\n",
      "{'Black': 23296, 'Native American/Native Alaskan': 917, 'White': 66237, 'Asian/Pacific Islander': 1326, 'Hispanic': 9022}\n"
     ]
    }
   ],
   "source": [
    "sex_counts = {}\n",
    "race_counts = {}\n",
    "\n",
    "for each in data:\n",
    "    if each[5] in sex_counts.keys():\n",
    "        sex_counts[each[5]] += 1\n",
    "    else:\n",
    "        sex_counts[each[5]] = 1\n",
    "    \n",
    "    if each[7] in race_counts.keys():\n",
    "        race_counts[each[7]] += 1\n",
    "    else:\n",
    "        race_counts[each[7]] = 1\n",
    "        \n",
    "print(sex_counts)  \n",
    "print(race_counts)"
   ]
  },
  {
   "cell_type": "code",
   "execution_count": 7,
   "metadata": {
    "collapsed": false
   },
   "outputs": [
    {
     "name": "stdout",
     "output_type": "stream",
     "text": [
      "[['Id', 'Year', 'Id', 'Sex', 'Id', 'Hispanic Origin', 'Id', 'Id2', 'Geography', 'Total', 'Race Alone - White', 'Race Alone - Hispanic', 'Race Alone - Black or African American', 'Race Alone - American Indian and Alaska Native', 'Race Alone - Asian', 'Race Alone - Native Hawaiian and Other Pacific Islander', 'Two or More Races'], ['cen42010', 'April 1, 2010 Census', 'totsex', 'Both Sexes', 'tothisp', 'Total', '0100000US', '', 'United States', '308745538', '197318956', '44618105', '40250635', '3739506', '15159516', '674625', '6984195']]\n"
     ]
    }
   ],
   "source": [
    "f = open(\"census.csv\")\n",
    "census = list(csv.reader(f))\n",
    "\n",
    "print(census)"
   ]
  },
  {
   "cell_type": "code",
   "execution_count": 8,
   "metadata": {
    "collapsed": false
   },
   "outputs": [
    {
     "name": "stdout",
     "output_type": "stream",
     "text": [
      "{'Black': 57.877347773519595, 'Native American/Native Alaskan': 24.521955573811088, 'Asian/Pacific Islander': 8.374309664161762, 'White': 33.56849303419181, 'Hispanic': 20.220491210910907}\n"
     ]
    }
   ],
   "source": [
    "race_per_hundredk = {}\n",
    "mapping = {'Hispanic': 44618105, 'White': 197318956, 'Asian/Pacific Islander': 15834141, 'Native American/Native Alaskan': 3739506, 'Black': 40250635}\n",
    "for key,value in race_counts.items():    \n",
    "    race_per_hundredk[key] = value * 100000/mapping[key]\n",
    "print(race_per_hundredk)\n",
    "    \n",
    "    \n"
   ]
  },
  {
   "cell_type": "code",
   "execution_count": 14,
   "metadata": {
    "collapsed": false
   },
   "outputs": [
    {
     "name": "stdout",
     "output_type": "stream",
     "text": [
      "{'Black': 19510, 'Native American/Native Alaskan': 326, 'White': 9147, 'Asian/Pacific Islander': 559, 'Hispanic': 5634}\n",
      "{'Black': 48.47128498718095, 'Native American/Native Alaskan': 8.717729026240365, 'Asian/Pacific Islander': 3.5303462309701548, 'White': 4.6356417981453335, 'Hispanic': 12.627161104219912}\n"
     ]
    }
   ],
   "source": [
    "intents = []\n",
    "races = []\n",
    "for each in data:\n",
    "    intents.append(each[3])\n",
    "    races.append(each[7])\n",
    "\n",
    "homicide_race_counts = {}\n",
    "Homicide_race_per_hundredk = {}\n",
    "\n",
    "for i,race in enumerate(races):\n",
    "\n",
    "    if(intents[i] == 'Homicide'):\n",
    "        if race in homicide_race_counts.keys():\n",
    "            homicide_race_counts[race] += 1\n",
    "        else:\n",
    "            homicide_race_counts[race] = 1\n",
    "mapping = {'Hispanic': 44618105, 'White': 197318956, 'Asian/Pacific Islander': 15834141, 'Native American/Native Alaskan': 3739506, 'Black': 40250635}\n",
    "for key,value in homicide_race_counts.items():    \n",
    "    Homicide_race_per_hundredk[key] = value * 100000/mapping[key]\n",
    "\n",
    "print(homicide_race_count)  \n",
    "print(Homicide_race_per_hundredk)\n",
    "    \n",
    "    "
   ]
  },
  {
   "cell_type": "code",
   "execution_count": null,
   "metadata": {
    "collapsed": true
   },
   "outputs": [],
   "source": []
  },
  {
   "cell_type": "code",
   "execution_count": null,
   "metadata": {
    "collapsed": true
   },
   "outputs": [],
   "source": []
  }
 ],
 "metadata": {
  "kernelspec": {
   "display_name": "Python 3",
   "language": "python",
   "name": "python3"
  },
  "language_info": {
   "codemirror_mode": {
    "name": "ipython",
    "version": 3
   },
   "file_extension": ".py",
   "mimetype": "text/x-python",
   "name": "python",
   "nbconvert_exporter": "python",
   "pygments_lexer": "ipython3",
   "version": "3.4.3"
  }
 },
 "nbformat": 4,
 "nbformat_minor": 0
}
